{
 "cells": [
  {
   "cell_type": "markdown",
   "metadata": {},
   "source": [
    "Author: J.Lee, KAIST (Korea), 2020.\n",
    "\n",
    "Y.Yang, Multi-Dimensional Atomic Imaging Lab, KAIST\n",
    "\n",
    "DL augmentation code\n",
   ]
  },
  {
   "cell_type": "code",
   "execution_count": null,
   "metadata": {},
   "outputs": [],
   "source": [
    "import torch\n",
    "import torch.nn as nn\n",
    "import matplotlib.pyplot as plt\n",
    "import numpy as np\n",
    "import torch.nn.functional as F\n",
    "import torch.optim as optim\n",
    "import scipy.io\n",
    "import time\n",
    "from torch.utils import data\n",
    "\n",
    "import DL_aug as DLa"
   ]
  },
  {
   "cell_type": "code",
   "execution_count": null,
   "metadata": {},
   "outputs": [],
   "source": [
    "# checking that cuda is available or not\n",
    "USE_CUDA=torch.cuda.is_available()\n",
    "DEVICE=torch.device(\"cuda\" if USE_CUDA else \"cpu\")\n",
    "print(\"CUDA: {}\".format(USE_CUDA))"
   ]
  },
  {
   "cell_type": "code",
   "execution_count": null,
   "metadata": {},
   "outputs": [],
   "source": [
    "### input parameter ###\n",
    "INPUT_PATH='./Pt_inputdata'\n",
    "\n",
    "INPUT_FILE_NAME='Pt_input_1_real_intepolation_zero_padding'\n",
    "INPUT_INSIDE_NAME='ESTvol'\n",
    "data_size=144;\n",
    "\n",
    "OUTPUT_PATH='./Pt_inputdata'\n",
    "OUTPUT_FILE_NAME='./Pt_output_1'\n",
    "OUTPUT_INSIDE_NAME='output'"
   ]
  },
  {
   "cell_type": "code",
   "execution_count": null,
   "metadata": {},
   "outputs": [],
   "source": [
    "### generate DL-augmenation model(Unet) ###\n",
    "aut = DLa.UnetGenerator_3d(in_dim=1,out_dim=1,num_filter=12).to(DEVICE)\n",
    "\n",
    "print(\"model contructing: OK!\")"
   ]
  },
  {
   "cell_type": "code",
   "execution_count": null,
   "metadata": {},
   "outputs": [],
   "source": [
    "### loading a previous saved model parameter ###\n",
    "PATH = './DL_aug_save_file/DL_aug_Pt_FCC_Bf5' # FCC Bf5\n",
    "#PATH = './DL_aug_save_file/DL_aug_Pt_FCC_Bf3.2' # FCC Bf3.2\n",
    "#PATH = './DL_aug_save_file/DL_aug_Pt_amorphous_Bf5' # amorphous Bf5\n",
    "aut.load_state_dict(torch.load(PATH, map_location={'cuda:0': 'cpu'}))\n",
    "#aut.load_state_dict(torch.load(PATH))\n",
    "aut.to(DEVICE)\n",
    "\n",
    "print(\"loading save file: OK!\")"
   ]
  },
  {
   "cell_type": "code",
   "execution_count": null,
   "metadata": {},
   "outputs": [],
   "source": [
    "input_data = scipy.io.loadmat('{}/{}.mat'.format(INPUT_PATH,INPUT_FILE_NAME))[INPUT_INSIDE_NAME];\n",
    "aut.eval()\n",
    "with torch.no_grad():\n",
    "    inputs = torch.tensor(input_data).view(-1,1,data_size,data_size,data_size).float().to(DEVICE);\n",
    "    \n",
    "    ### choose intensity scale factor\n",
    "    inputs = inputs*13  # for Bf5  (FCC+Bf5, amorphous+Bf5)\n",
    "    #inputs = inputs*8  # for Bf3.2 (FCC+Bf3.2)\n",
    "    ###\n",
    "    \n",
    "    outputs = aut(inputs)\n",
    "    outputs = outputs.data[0][0].cpu().numpy()\n",
    "    scipy.io.savemat('{}/{}.mat'.format(OUTPUT_PATH,OUTPUT_FILE_NAME), {'{}'.format(OUTPUT_INSIDE_NAME):outputs})"
   ]
  },
  {
   "cell_type": "code",
   "execution_count": null,
   "metadata": {},
   "outputs": [],
   "source": []
  }
 ],
 "metadata": {
  "kernelspec": {
   "display_name": "Python3_pytorch_1.1",
   "language": "python",
   "name": "pytorch_1.1"
  },
  "language_info": {
   "codemirror_mode": {
    "name": "ipython",
    "version": 3
   },
   "file_extension": ".py",
   "mimetype": "text/x-python",
   "name": "python",
   "nbconvert_exporter": "python",
   "pygments_lexer": "ipython3",
   "version": "3.7.5"
  }
 },
 "nbformat": 4,
 "nbformat_minor": 4
}
